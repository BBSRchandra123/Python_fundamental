{
 "cells": [
  {
   "cell_type": "code",
   "execution_count": 4,
   "id": "f41a81b3",
   "metadata": {},
   "outputs": [
    {
     "name": "stdout",
     "output_type": "stream",
     "text": [
      "chandrakanta panda\n"
     ]
    }
   ],
   "source": [
    "Name=\"chandrakanta panda\"\n",
    "print(Name)"
   ]
  },
  {
   "cell_type": "code",
   "execution_count": 5,
   "id": "25ef0f52",
   "metadata": {},
   "outputs": [
    {
     "name": "stdout",
     "output_type": "stream",
     "text": [
      "Panda\n"
     ]
    }
   ],
   "source": [
    "Name1=\"Panda\"\n",
    "print(Name1)"
   ]
  },
  {
   "cell_type": "code",
   "execution_count": 8,
   "id": "3448aea5",
   "metadata": {},
   "outputs": [
    {
     "name": "stdout",
     "output_type": "stream",
     "text": [
      "Chandrakanta Panda\n"
     ]
    }
   ],
   "source": [
    "print(Name.title())"
   ]
  },
  {
   "cell_type": "code",
   "execution_count": 10,
   "id": "f4d9671b",
   "metadata": {},
   "outputs": [
    {
     "name": "stdout",
     "output_type": "stream",
     "text": [
      "CHANDRAKANTA PANDA\n"
     ]
    }
   ],
   "source": [
    "print(Name.upper())"
   ]
  },
  {
   "cell_type": "code",
   "execution_count": 11,
   "id": "ea2c099d",
   "metadata": {},
   "outputs": [
    {
     "name": "stdout",
     "output_type": "stream",
     "text": [
      "chandrakanta panda\n"
     ]
    }
   ],
   "source": [
    "print(Name.lower())"
   ]
  },
  {
   "cell_type": "code",
   "execution_count": 12,
   "id": "f978f459",
   "metadata": {},
   "outputs": [
    {
     "ename": "AttributeError",
     "evalue": "'str' object has no attribute 'initcap'",
     "output_type": "error",
     "traceback": [
      "\u001b[1;31m---------------------------------------------------------------------------\u001b[0m",
      "\u001b[1;31mAttributeError\u001b[0m                            Traceback (most recent call last)",
      "Cell \u001b[1;32mIn[12], line 1\u001b[0m\n\u001b[1;32m----> 1\u001b[0m \u001b[38;5;28mprint\u001b[39m(Name\u001b[38;5;241m.\u001b[39minitcap())\n",
      "\u001b[1;31mAttributeError\u001b[0m: 'str' object has no attribute 'initcap'"
     ]
    }
   ],
   "source": []
  },
  {
   "cell_type": "code",
   "execution_count": 13,
   "id": "0f7961e9",
   "metadata": {},
   "outputs": [
    {
     "name": "stdout",
     "output_type": "stream",
     "text": [
      "1233,3344,44455,22344,444\n"
     ]
    }
   ],
   "source": [
    "Name='1233,3344,44455,22344,444'\n",
    "print(Name)"
   ]
  },
  {
   "cell_type": "code",
   "execution_count": 15,
   "id": "4834cd67",
   "metadata": {},
   "outputs": [
    {
     "name": "stdout",
     "output_type": "stream",
     "text": [
      "2\n"
     ]
    }
   ],
   "source": [
    "HSBC={10,23,63}\n",
    "print(2)"
   ]
  },
  {
   "cell_type": "code",
   "execution_count": 17,
   "id": "75cc5bf2",
   "metadata": {},
   "outputs": [
    {
     "name": "stdout",
     "output_type": "stream",
     "text": [
      "{10, 23, 63}\n"
     ]
    }
   ],
   "source": [
    "HSBC={10,23,63}\n",
    "print(HSBC)"
   ]
  },
  {
   "cell_type": "code",
   "execution_count": 18,
   "id": "bfe2e85b",
   "metadata": {},
   "outputs": [
    {
     "name": "stdout",
     "output_type": "stream",
     "text": [
      "0\n"
     ]
    }
   ],
   "source": [
    "HSBC={10,23,63}\n",
    "print(0)"
   ]
  },
  {
   "cell_type": "code",
   "execution_count": 25,
   "id": "fd0eca60",
   "metadata": {},
   "outputs": [
    {
     "name": "stdout",
     "output_type": "stream",
     "text": [
      "{1, 6363, 3636}\n"
     ]
    }
   ],
   "source": [
    "HSBS={1,6363,3636}\n",
    "print(HSBS)"
   ]
  },
  {
   "cell_type": "code",
   "execution_count": 31,
   "id": "81118072",
   "metadata": {},
   "outputs": [
    {
     "name": "stdout",
     "output_type": "stream",
     "text": [
      "NAZIM 1,6363,3636\n"
     ]
    }
   ],
   "source": [
    "HSBS=\"1,6363,3636\"\n",
    "H1=\"NAZIM\"\n",
    "print(H1,HSBS)"
   ]
  },
  {
   "cell_type": "code",
   "execution_count": null,
   "id": "3397152b",
   "metadata": {},
   "outputs": [],
   "source": []
  }
 ],
 "metadata": {
  "kernelspec": {
   "display_name": "Python 3 (ipykernel)",
   "language": "python",
   "name": "python3"
  },
  "language_info": {
   "codemirror_mode": {
    "name": "ipython",
    "version": 3
   },
   "file_extension": ".py",
   "mimetype": "text/x-python",
   "name": "python",
   "nbconvert_exporter": "python",
   "pygments_lexer": "ipython3",
   "version": "3.11.3"
  }
 },
 "nbformat": 4,
 "nbformat_minor": 5
}
